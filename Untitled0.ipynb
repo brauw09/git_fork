{
  "nbformat": 4,
  "nbformat_minor": 0,
  "metadata": {
    "colab": {
      "provenance": [],
      "authorship_tag": "ABX9TyPdlsR7EciWtliXRKj2/BrX",
      "include_colab_link": true
    },
    "kernelspec": {
      "name": "python3",
      "display_name": "Python 3"
    },
    "language_info": {
      "name": "python"
    }
  },
  "cells": [
    {
      "cell_type": "markdown",
      "metadata": {
        "id": "view-in-github",
        "colab_type": "text"
      },
      "source": [
        "<a href=\"https://colab.research.google.com/github/brauw09/git_fork/blob/main/Untitled0.ipynb\" target=\"_parent\"><img src=\"https://colab.research.google.com/assets/colab-badge.svg\" alt=\"Open In Colab\"/></a>"
      ]
    },
    {
      "cell_type": "code",
      "execution_count": null,
      "metadata": {
        "id": "RQEzTidlH6cI"
      },
      "outputs": [],
      "source": [
        "!pip install azure-storage-blob\n",
        "!pip install pymongo"
      ]
    },
    {
      "cell_type": "code",
      "source": [
        "import pandas as pd\n",
        "import pymongo\n",
        "from pymongo import MongoClient\n",
        "from azure.storage.blob import BlobServiceClient, BlobClient, ContainerClient"
      ],
      "metadata": {
        "id": "w7i_ngGJIJ0w"
      },
      "execution_count": null,
      "outputs": []
    },
    {
      "cell_type": "code",
      "source": [
        "import json\n",
        "with open('config.json') as config_file:\n",
        "  config = json.load(config_file)\n",
        "\n",
        "\n",
        "\n",
        "SOURCE_CONNECTION_STRING = config['SOURCE_CONNECTION_STRING']\n",
        "SOURCE_CONTAINER_NAME = config['SOURCE_CONTAINER_NAME']\n",
        "SOURCE_FILE_NAME = config['SOURCE_FILE_NAME']\n",
        "\n",
        "DESTINATION_CONNECTION_STRING = config['DESTINATION_CONNECTION_STRING']\n",
        "DESTINATION_CONTAINER_NAME = config['DESTINATION_CONTAINER_NAME']\n",
        "DESTINATION_FILE_NAME = config['DESTINATION_FILE_NAME']\n",
        "\n",
        "print(DESTINATION_FILE_NAME)"
      ],
      "metadata": {
        "id": "FcMCEpdQIlFH"
      },
      "execution_count": null,
      "outputs": []
    },
    {
      "cell_type": "code",
      "source": [],
      "metadata": {
        "id": "RM4YbV5DJKq7"
      },
      "execution_count": null,
      "outputs": []
    }
  ]
}